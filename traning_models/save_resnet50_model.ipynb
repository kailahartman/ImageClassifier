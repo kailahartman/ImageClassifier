{
 "cells": [
  {
   "cell_type": "code",
   "execution_count": 5,
   "id": "176bf03e",
   "metadata": {},
   "outputs": [
    {
     "name": "stdout",
     "output_type": "stream",
     "text": [
      "Saved trained model at C:\\bootCamp\\APPLIED\\AppliedProject\\visualization\\saved_models\\resnet50.pt \n",
      "Egyptian cat: 60.7%\n"
     ]
    }
   ],
   "source": [
    "import os\n",
    "import torch\n",
    "save_dir = os.path.join(os.getcwd(), 'saved_models')\n",
    "model_name = 'resnet50.pt'\n",
    "\n",
    "# Save model and weights\n",
    "if not os.path.isdir(save_dir):\n",
    "    os.makedirs(save_dir)\n",
    "model_path = os.path.join(save_dir, model_name)\n",
    "\n",
    "# torch.save(model.state_dict(), model_path)\n",
    "torch.save(model, model_path)\n",
    "print('Saved trained model at %s ' % model_path)\n",
    "\n",
    "\n"
   ]
  },
  {
   "cell_type": "code",
   "execution_count": 9,
   "id": "c092e869",
   "metadata": {},
   "outputs": [
    {
     "name": "stdout",
     "output_type": "stream",
     "text": [
      "airliner\n",
      "Airplane\n",
      "predict: Airplane\n"
     ]
    }
   ],
   "source": [
    "import pandas as pd\n",
    "def change_category_to_cifar(df,subclass):\n",
    "    for i  in df.columns:\n",
    "        for j in df[i]:\n",
    "            if(j==subclass):\n",
    "                return i\n",
    "    return \"not exist\"  \n",
    "\n",
    "def maping_imagenet_to_cifar(category_name):\n",
    "    cifar_labels = ['Airplane', 'Automobile', 'Bird', 'Cat', 'Deer', 'Dog', 'Frog', 'Horse', 'Ship', 'Truck', 'Feesh', 'Flawers', 'Tree']\n",
    "    category_name_list = category_name.split()\n",
    "    df=pd.read_csv('./convet_imagenet_cifar.csv')   \n",
    "    for ctgry in reversed(category_name_list):\n",
    "        print(ctgry)\n",
    "        ctgry = change_category_to_cifar(df, ctgry)\n",
    "        print(ctgry)\n",
    "        if ctgry in cifar_labels:\n",
    "            return ctgry\n",
    "            \n",
    "print(\"predict: \"+maping_imagenet_to_cifar(\"sky airliner\"))      \n",
    "\n",
    "    "
   ]
  },
  {
   "cell_type": "code",
   "execution_count": 11,
   "id": "79da0d4b",
   "metadata": {},
   "outputs": [
    {
     "name": "stdout",
     "output_type": "stream",
     "text": [
      "cat\n",
      "Airplane\n",
      "Airplane: 60.7%\n"
     ]
    }
   ],
   "source": [
    "import torch\n",
    "\n",
    "from torchvision.io import read_image, ImageReadMode\n",
    "\n",
    "\n",
    "load_model = torch.load('saved_models/resnet50.pt')\n",
    "img = read_image(r\"C:\\bootCamp\\APPLIED\\AppliedProject\\preprocess\\data\\additional_pictures\\3\\4 cat (4).jpg\",  mode=ImageReadMode.RGB)\n",
    "load_model.eval()\n",
    "\n",
    "\n",
    "# Step 2: Initialize the inference transforms\n",
    "preprocess = weights.transforms()\n",
    "\n",
    "# Step 3: Apply inference preprocessing transforms\n",
    "batch = preprocess(img).unsqueeze(0)\n",
    "\n",
    "# Step 4: Use the model and print the predicted category\n",
    "prediction = load_model(batch).squeeze(0).softmax(0)\n",
    "class_id = prediction.argmax().item()\n",
    "score = prediction[class_id].item()\n",
    "category_name = weights.meta[\"categories\"][class_id]\n",
    "category_name = maping_imagenet_to_cifar(category_name)\n",
    "print(f\"{category_name}: {100 * score:.1f}%\")\n",
    "\n"
   ]
  },
  {
   "cell_type": "code",
   "execution_count": null,
   "id": "a58b4c36",
   "metadata": {},
   "outputs": [],
   "source": []
  }
 ],
 "metadata": {
  "kernelspec": {
   "display_name": "Python 3",
   "language": "python",
   "name": "python3"
  },
  "language_info": {
   "codemirror_mode": {
    "name": "ipython",
    "version": 3
   },
   "file_extension": ".py",
   "mimetype": "text/x-python",
   "name": "python",
   "nbconvert_exporter": "python",
   "pygments_lexer": "ipython3",
   "version": "3.10.9"
  }
 },
 "nbformat": 4,
 "nbformat_minor": 5
}
